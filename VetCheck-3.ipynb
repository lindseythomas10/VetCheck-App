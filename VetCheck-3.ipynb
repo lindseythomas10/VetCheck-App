{
  "nbformat": 4,
  "nbformat_minor": 0,
  "metadata": {
    "colab": {
      "provenance": []
    },
    "kernelspec": {
      "name": "python3",
      "display_name": "Python 3"
    },
    "language_info": {
      "name": "python"
    }
  },
  "cells": [
    {
      "cell_type": "markdown",
      "source": [
        "PET PROFILE"
      ],
      "metadata": {
        "id": "uhhpWGf28Pq1"
      }
    },
    {
      "cell_type": "code",
      "source": [
        "from tabulate import tabulate\n",
        "\n",
        "\n",
        "pets = []\n",
        "\n",
        "while True:\n",
        "    print(\"\\nPlease enter your pet's information:\")\n",
        "    name = input(\"What is the name of your pet? \")\n",
        "    sex = input(\"Is your pet male or female? \")\n",
        "    species = input(\"What species is your pet? \")\n",
        "    breed = input(\"What is the breed of your pet? \")\n",
        "    birthdate = input(\"When is your pet's birthday? \")\n",
        "    weight = input(\"How much does your pet weigh? \")\n",
        "    vaccinations = {}\n",
        "    print(\"Enter vaccinations with dates (format: YYYY-MM-DD). Type 'done' when finished.\")\n",
        "    while True:\n",
        "        vname = input(\"Vaccine Name: \").strip()\n",
        "        if vname.lower() == \"done\":\n",
        "            break\n",
        "        vdate = input(\"Date Given (YYYY-MM-DD): \").strip()\n",
        "        if vname and vdate:\n",
        "            vaccinations[vname] = vdate\n",
        "\n",
        "    pets.append([name, sex, species, breed, birthdate, weight])\n",
        "\n",
        "\n",
        "    another = input(\"\\nWould you like to add another pet? (yes/no): \").strip().lower()\n",
        "    if another not in [\"yes\", \"y\"]:\n",
        "        break\n",
        "\n",
        "\n",
        "headers = [\"Name\", \"Sex\", \"Species\", \"Breed\", \"Birthdate\", \"Weight\"]\n",
        "print(\"\\nAll Pets:\")\n",
        "print(tabulate(pets, headers=headers, tablefmt=\"grid\"))"
      ],
      "metadata": {
        "colab": {
          "base_uri": "https://localhost:8080/"
        },
        "id": "QQrM66EaENf1",
        "outputId": "ca664f03-47f9-4915-f1c1-8baa1f61001d"
      },
      "execution_count": null,
      "outputs": [
        {
          "name": "stdout",
          "output_type": "stream",
          "text": [
            "\n",
            "Please enter your pet's information:\n",
            "What is the name of your pet? ds\n",
            "Is your pet male or female? fd\n",
            "What species is your pet? f\n",
            "What is the breed of your pet? f\n",
            "When is your pet's birthday? f\n",
            "How much does your pet weigh? f\n",
            "Enter vaccinations with dates (format: YYYY-MM-DD). Type 'done' when finished.\n",
            "Vaccine Name: Rabies\n",
            "Date Given (YYYY-MM-DD): 2004-12-03\n",
            "Vaccine Name: done\n"
          ]
        }
      ]
    }
  ]
}